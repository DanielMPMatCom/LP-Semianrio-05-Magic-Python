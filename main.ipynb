{
 "cells": [
  {
   "cell_type": "markdown",
   "metadata": {},
   "source": [
    "# Seminario 5:  Python Mágico"
   ]
  },
  {
   "cell_type": "markdown",
   "metadata": {},
   "source": [
    "Implementación de la clase Matriz:"
   ]
  },
  {
   "cell_type": "code",
   "execution_count": null,
   "metadata": {},
   "outputs": [],
   "source": [
    "class Matriz:\n",
    "    def __init__(self, filas, columnas, valor_inicial=0):\n",
    "        self.filas = filas\n",
    "        self.columnas = columnas\n",
    "        self.matriz = [[valor_inicial]*columnas for _ in range(filas)]\n",
    "\n",
    "    def __getitem__(self, indices):\n",
    "        fila, columna = indices\n",
    "        return self.matriz[fila][columna]\n",
    "\n",
    "    def __setitem__(self, indices, valor):\n",
    "        fila, columna = indices\n",
    "        self.matriz[fila][columna] = valor\n",
    "        \n",
    "    def __getattr__(self, attr):\n",
    "        fila, columna = map(int, attr.split('_')[1:])\n",
    "        return self.matriz[fila][columna]\n",
    "\n",
    "    def __setattr__(self, attr, valor):\n",
    "        if attr.startswith('_'):\n",
    "            fila, columna = map(int, attr.split('_')[1:])\n",
    "            self.matriz[fila][columna] = valor\n",
    "        else:\n",
    "            # super().__setattr__(attr, valor)\n",
    "            object.__setattr__(self, attr, valor)\n",
    "\n",
    "    def __iter__(self):\n",
    "        for fila in self.matriz:\n",
    "            for valor in fila:\n",
    "                yield valor\n",
    "\n",
    "    def as_type(self, tipo):\n",
    "        nueva_matriz = Matriz(self.filas, self.columnas)\n",
    "        nueva_matriz.matriz = [[tipo(valor) for valor in fila] for fila in self.matriz]\n",
    "        return nueva_matriz\n",
    "\n",
    "    def __str__(self):\n",
    "        return '\\n'.join([' '.join(map(str, fila)) for fila in self.matriz])\n",
    "\n",
    "    # def _1_1 (self):\n",
    "    #     print(\"se vuelve loco?\")\n",
    "\n",
    "    def __add__(self, other):\n",
    "        if self.filas != other.filas or self.columnas != other.columnas:\n",
    "            raise ValueError('Las matrices deben tener las mismas dimensiones')\n",
    "        nueva_matriz = Matriz(self.filas, self.columnas)\n",
    "        nueva_matriz.matriz = [[self[fila, columna] + other[fila, columna] for columna in range(self.columnas)] for fila in range(self.filas)]\n",
    "        return nueva_matriz\n",
    "    \n",
    "    def __sub__(self, other):\n",
    "        if self.filas != other.filas or self.columnas != other.columnas:\n",
    "            raise ValueError('Las matrices deben tener las mismas dimensiones')\n",
    "        nueva_matriz = Matriz(self.filas, self.columnas)\n",
    "        nueva_matriz.matriz = [[self[fila, columna] - other[fila, columna] for columna in range(self.columnas)] for fila in range(self.filas)]\n",
    "        return nueva_matriz\n",
    "    \n",
    "    def __mul__(self, other):\n",
    "        if self.columnas != other.filas:\n",
    "            raise ValueError('El número de columnas de la primera matriz debe ser igual al número de filas de la segunda matriz')\n",
    "        nueva_matriz = Matriz(self.filas, other.columnas)\n",
    "        nueva_matriz.matriz = [[sum(self[fila, k] * other[k, columna] for k in range(self.columnas)) for columna in range(other.columnas)] for fila in range(self.filas)]\n",
    "        return nueva_matriz\n"
   ]
  },
  {
   "cell_type": "markdown",
   "metadata": {},
   "source": [
    "1. Implemente la clase `Matriz`, para representar matrices con las operaciones de suma y producto. Implemente además otras funcionalidades que crea necesarias."
   ]
  },
  {
   "cell_type": "code",
   "execution_count": null,
   "metadata": {},
   "outputs": [],
   "source": [
    "matrizA = Matriz(2, 2, 1)\n",
    "matrizB = Matriz(2, 2, 2)\n",
    "print(matrizA + matrizB)\n",
    "print(matrizA - matrizB)\n",
    "print(matrizA * matrizB)"
   ]
  },
  {
   "cell_type": "markdown",
   "metadata": {},
   "source": [
    "2. Implemente la indización para la clase `Matriz` de forma tal que se puedan hacer construcciones como las siguientes: `a = matriz[0, 6]` o `matriz[1, 2] = 9`."
   ]
  },
  {
   "cell_type": "code",
   "execution_count": null,
   "metadata": {},
   "outputs": [],
   "source": [
    "matrizA[1,1] = 10\n",
    "print(matrizA[1,1])\n",
    "\n",
    "a = matrizA[0, 0]\n",
    "print(a)"
   ]
  },
  {
   "cell_type": "markdown",
   "metadata": {},
   "source": [
    "3. Implemente la indización para la clase `Matriz` por medio de acceso a campos de la forma: `a = matriz._0_6` o `matriz._1_2 = 9`."
   ]
  },
  {
   "cell_type": "code",
   "execution_count": null,
   "metadata": {},
   "outputs": [],
   "source": [
    "matrizA._0_0 = 100\n",
    "print(matrizA._0_0)\n",
    "\n",
    "a = matrizA._0_0\n",
    "print(a)"
   ]
  },
  {
   "cell_type": "markdown",
   "metadata": {},
   "source": [
    "4. Los objetos matrices deberán ser iterables. El iterador de una matriz con `n` filas y `m` columnas debe devolver los elementos en el siguiente orden: `matriz_1_1, matriz_1_2, ..., matriz_1_m, matriz_2_1, ..., matriz_n_m`"
   ]
  },
  {
   "cell_type": "code",
   "execution_count": null,
   "metadata": {},
   "outputs": [],
   "source": [
    "a = iter(matrizA)\n",
    "for valor in a:\n",
    "    print(valor)"
   ]
  },
  {
   "cell_type": "markdown",
   "metadata": {},
   "source": [
    "5. Al tipo matriz se podrá aplicar siempre el método `as_type()` que devuelve una nueva matriz con todos los tipos convertidos al tipo `type`. Suponga que existe un constructor en `type` que convierte de cualquier tipo a type. Por ejemplo:\n",
    "\n",
    "``` c#\n",
    "m = Matriz(2, 3) # crea una matriz de int con valor 0s.\n",
    "mf = m.as_float() # mf es una matriz de 0s pero de tipo float.\n",
    "```"
   ]
  },
  {
   "cell_type": "code",
   "execution_count": null,
   "metadata": {},
   "outputs": [],
   "source": [
    "m = Matriz(2, 3)\n",
    "print(m)\n",
    "mf = m.as_type(float)\n",
    "print(mf)"
   ]
  },
  {
   "cell_type": "markdown",
   "metadata": {},
   "source": [
    "// estoy leyendome esto\n",
    "\n",
    "La resolución de métodos y miembros en Python se refiere a cómo Python busca y encuentra métodos y atributos en una clase y sus superclases. Aquí hay algunos recursos donde puedes aprender más sobre este tema:\n",
    "\n",
    "1. Documentación oficial de Python sobre el modelo de datos: https://docs.python.org/3/reference/datamodel.html. Esta página contiene información sobre cómo Python busca métodos especiales en las clases y sus superclases.\n",
    "\n",
    "2. Documentación oficial de Python sobre la función `super()`: https://docs.python.org/3/library/functions.html#super. Esta página explica cómo puedes usar `super()` para llamar a métodos en la superclase de una clase.\n",
    "\n",
    "3. Tutorial de Python sobre herencia múltiple: https://docs.python.org/3/tutorial/classes.html#multiple-inheritance. Esta sección del tutorial de Python explica cómo Python resuelve los métodos y atributos cuando una clase hereda de múltiples superclases.\n",
    "\n",
    "4. Artículo de Real Python sobre el método de resolución de orden (MRO) en Python: https://realpython.com/python-super/. Este artículo explica en detalle cómo Python determina el orden en el que busca métodos y atributos en las superclases de una clase.\n",
    "\n",
    "Estos recursos deberían ayudarte a entender cómo Python resuelve métodos y miembros en las clases y sus superclases."
   ]
  }
 ],
 "metadata": {
  "kernelspec": {
   "display_name": "base",
   "language": "python",
   "name": "python3"
  },
  "language_info": {
   "codemirror_mode": {
    "name": "ipython",
    "version": 3
   },
   "file_extension": ".py",
   "mimetype": "text/x-python",
   "name": "python",
   "nbconvert_exporter": "python",
   "pygments_lexer": "ipython3",
   "version": "3.11.5"
  }
 },
 "nbformat": 4,
 "nbformat_minor": 2
}
