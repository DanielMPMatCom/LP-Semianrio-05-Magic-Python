{
 "cells": [
  {
   "cell_type": "markdown",
   "metadata": {},
   "source": [
    "# Seminario 5:  Python Mágico"
   ]
  },
  {
   "cell_type": "markdown",
   "metadata": {},
   "source": [
    "## Implementación de la clase Matriz"
   ]
  },
  {
   "cell_type": "code",
   "execution_count": 8,
   "metadata": {},
   "outputs": [],
   "source": [
    "class Matriz:\n",
    "    def __init__(self, filas, columnas, valor_inicial=0):\n",
    "        self.filas = filas\n",
    "        self.columnas = columnas\n",
    "        self.matriz = [[valor_inicial]*columnas for _ in range(filas)]\n",
    "\n",
    "    def __getitem__(self, indices):\n",
    "        fila, columna = indices\n",
    "        return self.matriz[fila][columna]\n",
    "\n",
    "    def __setitem__(self, indices, valor):\n",
    "        fila, columna = indices\n",
    "        self.matriz[fila][columna] = valor\n",
    "\n",
    "    def __getattr__(self, attr):\n",
    "        fila, columna = map(int, attr.split('_')[1:])\n",
    "        return self.matriz[fila][columna]\n",
    "\n",
    "    def __setattr__(self, attr, valor):\n",
    "        if attr.startswith('_'):\n",
    "            fila, columna = map(int, attr.split('_')[1:])\n",
    "            self.matriz[fila][columna] = valor\n",
    "        else:\n",
    "            super().__setattr__(attr, valor)\n",
    "\n",
    "    def __iter__(self):\n",
    "        for fila in self.matriz:\n",
    "            for valor in fila:\n",
    "                yield valor\n",
    "\n",
    "    def as_type(self, tipo):\n",
    "        nueva_matriz = Matriz(self.filas, self.columnas)\n",
    "        nueva_matriz.matriz = [[tipo(valor) for valor in fila] for fila in self.matriz]\n",
    "        return nueva_matriz\n",
    "\n",
    "    def __str__(self):\n",
    "        return '\\n'.join([' '.join(map(str, fila)) for fila in self.matriz])"
   ]
  },
  {
   "cell_type": "code",
   "execution_count": 26,
   "metadata": {},
   "outputs": [
    {
     "name": "stdout",
     "output_type": "stream",
     "text": [
      "0 1 2\n",
      "3 4 5\n",
      "6 7 8\n",
      "0 1 2\n",
      "3 4 5\n",
      "6 7 8\n"
     ]
    },
    {
     "ename": "TypeError",
     "evalue": "unsupported operand type(s) for +: 'Matriz' and 'Matriz'",
     "output_type": "error",
     "traceback": [
      "\u001b[1;31m---------------------------------------------------------------------------\u001b[0m",
      "\u001b[1;31mTypeError\u001b[0m                                 Traceback (most recent call last)",
      "Cell \u001b[1;32mIn[26], line 16\u001b[0m\n\u001b[0;32m     13\u001b[0m         mb[i, j] \u001b[38;5;241m=\u001b[39m i\u001b[38;5;241m*\u001b[39m\u001b[38;5;241m3\u001b[39m \u001b[38;5;241m+\u001b[39m j\n\u001b[0;32m     14\u001b[0m \u001b[38;5;28mprint\u001b[39m(mb)\n\u001b[1;32m---> 16\u001b[0m \u001b[38;5;28mprint\u001b[39m(ma \u001b[38;5;241m+\u001b[39m mb)\n",
      "\u001b[1;31mTypeError\u001b[0m: unsupported operand type(s) for +: 'Matriz' and 'Matriz'"
     ]
    }
   ],
   "source": [
    "na = 3\n",
    "ma = Matriz(na, na)\n",
    "for i in range(3):\n",
    "    for j in range(3):\n",
    "        ma[i, j] = i*3 + j\n",
    "print(ma)\n",
    "\n",
    "\n",
    "nb = 3\n",
    "mb = Matriz(nb, nb)\n",
    "for i in range(3):\n",
    "    for j in range(3):\n",
    "        mb[i, j] = i*3 + j\n",
    "print(mb)\n",
    "\n",
    "print(ma + mb)\n",
    "\n",
    "\n"
   ]
  },
  {
   "cell_type": "code",
   "execution_count": null,
   "metadata": {},
   "outputs": [],
   "source": []
  },
  {
   "cell_type": "markdown",
   "metadata": {},
   "source": [
    "La resolución de métodos y miembros en Python se refiere a cómo Python busca y encuentra métodos y atributos en una clase y sus superclases. Aquí hay algunos recursos donde puedes aprender más sobre este tema:\n",
    "\n",
    "1. Documentación oficial de Python sobre el modelo de datos: https://docs.python.org/3/reference/datamodel.html. Esta página contiene información sobre cómo Python busca métodos especiales en las clases y sus superclases.\n",
    "\n",
    "2. Documentación oficial de Python sobre la función `super()`: https://docs.python.org/3/library/functions.html#super. Esta página explica cómo puedes usar `super()` para llamar a métodos en la superclase de una clase.\n",
    "\n",
    "3. Tutorial de Python sobre herencia múltiple: https://docs.python.org/3/tutorial/classes.html#multiple-inheritance. Esta sección del tutorial de Python explica cómo Python resuelve los métodos y atributos cuando una clase hereda de múltiples superclases.\n",
    "\n",
    "4. Artículo de Real Python sobre el método de resolución de orden (MRO) en Python: https://realpython.com/python-super/. Este artículo explica en detalle cómo Python determina el orden en el que busca métodos y atributos en las superclases de una clase.\n",
    "\n",
    "Estos recursos deberían ayudarte a entender cómo Python resuelve métodos y miembros en las clases y sus superclases."
   ]
  }
 ],
 "metadata": {
  "kernelspec": {
   "display_name": "base",
   "language": "python",
   "name": "python3"
  },
  "language_info": {
   "codemirror_mode": {
    "name": "ipython",
    "version": 3
   },
   "file_extension": ".py",
   "mimetype": "text/x-python",
   "name": "python",
   "nbconvert_exporter": "python",
   "pygments_lexer": "ipython3",
   "version": "3.11.5"
  }
 },
 "nbformat": 4,
 "nbformat_minor": 2
}
