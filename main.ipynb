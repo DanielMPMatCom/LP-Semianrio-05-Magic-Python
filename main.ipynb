{
 "cells": [
  {
   "cell_type": "markdown",
   "metadata": {},
   "source": [
    "# Seminario 5:  Python Mágico"
   ]
  },
  {
   "cell_type": "markdown",
   "metadata": {},
   "source": [
    "[Problema a implementar](seminario_05_python_magico.md)\n",
    "Implementación de la clase Matriz:"
   ]
  },
  {
   "cell_type": "code",
   "execution_count": null,
   "metadata": {},
   "outputs": [],
   "source": [
    "class Matriz:\n",
    "    def __init__(self, filas, columnas, valor_inicial=0):\n",
    "        self.filas = filas\n",
    "        self.columnas = columnas\n",
    "        self.matriz = [[valor_inicial]*columnas for _ in range(filas)]\n",
    "\n",
    "    def __getitem__(self, indices):\n",
    "        fila, columna = indices\n",
    "        return self.matriz[fila][columna]\n",
    "\n",
    "    def __setitem__(self, indices, valor):\n",
    "        fila, columna = indices\n",
    "        self.matriz[fila][columna] = valor\n",
    "        \n",
    "    def __getattr__(self, attr):\n",
    "        fila, columna = map(int, attr.split('_')[1:])\n",
    "        return self.matriz[fila][columna]\n",
    "\n",
    "    def __setattr__(self, attr, valor):\n",
    "        if attr.startswith('_'):\n",
    "            fila, columna = map(int, attr.split('_')[1:])\n",
    "            self.matriz[fila][columna] = valor\n",
    "        else:\n",
    "            # super().__setattr__(attr, valor)\n",
    "            object.__setattr__(self, attr, valor)\n",
    "\n",
    "    def __iter__(self):\n",
    "        for fila in self.matriz:\n",
    "            for valor in fila:\n",
    "                yield valor\n",
    "\n",
    "    def as_type(self, tipo):\n",
    "        nueva_matriz = Matriz(self.filas, self.columnas)\n",
    "        nueva_matriz.matriz = [[tipo(valor) for valor in fila] for fila in self.matriz]\n",
    "        return nueva_matriz\n",
    "\n",
    "    def __str__(self):\n",
    "        return '\\n'.join([' '.join(map(str, fila)) for fila in self.matriz])\n",
    "\n",
    "    # def _1_1 (self):\n",
    "    #     print(\"se vuelve loco?\")\n",
    "\n",
    "    def __add__(self, other):\n",
    "        if self.filas != other.filas or self.columnas != other.columnas:\n",
    "            raise ValueError('Las matrices deben tener las mismas dimensiones')\n",
    "        nueva_matriz = Matriz(self.filas, self.columnas)\n",
    "        nueva_matriz.matriz = [[self[fila, columna] + other[fila, columna] for columna in range(self.columnas)] for fila in range(self.filas)]\n",
    "        return nueva_matriz\n",
    "    \n",
    "    def __sub__(self, other):\n",
    "        if self.filas != other.filas or self.columnas != other.columnas:\n",
    "            raise ValueError('Las matrices deben tener las mismas dimensiones')\n",
    "        nueva_matriz = Matriz(self.filas, self.columnas)\n",
    "        nueva_matriz.matriz = [[self[fila, columna] - other[fila, columna] for columna in range(self.columnas)] for fila in range(self.filas)]\n",
    "        return nueva_matriz\n",
    "    \n",
    "    def __mul__(self, other):\n",
    "        if self.columnas != other.filas:\n",
    "            raise ValueError('El número de columnas de la primera matriz debe ser igual al número de filas de la segunda matriz')\n",
    "        nueva_matriz = Matriz(self.filas, other.columnas)\n",
    "        nueva_matriz.matriz = [[sum(self[fila, k] * other[k, columna] for k in range(self.columnas)) for columna in range(other.columnas)] for fila in range(self.filas)]\n",
    "        return nueva_matriz\n"
   ]
  },
  {
   "cell_type": "markdown",
   "metadata": {},
   "source": [
    "1. Implemente la clase `Matriz`, para representar matrices con las operaciones de suma y producto. Implemente además otras funcionalidades que crea necesarias."
   ]
  },
  {
   "cell_type": "code",
   "execution_count": null,
   "metadata": {},
   "outputs": [],
   "source": [
    "matrizA = Matriz(2, 2, 1)\n",
    "matrizB = Matriz(2, 2, 2)\n",
    "print(f\"MatrizA: \\n{matrizA}\\n\")\n",
    "print(f\"MatrizB: \\n{matrizB}\\n\")\n",
    "print(f\"A+B: \\n{matrizA + matrizB}\\n\")\n",
    "print(f\"A-B: \\n{matrizA - matrizB}\\n\")\n",
    "print(f\"A*B:\\n{matrizA * matrizB}\\n\")"
   ]
  },
  {
   "cell_type": "markdown",
   "metadata": {},
   "source": [
    "2. Implemente la indización para la clase `Matriz` de forma tal que se puedan hacer construcciones como las siguientes: `a = matriz[0, 6]` o `matriz[1, 2] = 9`."
   ]
  },
  {
   "cell_type": "code",
   "execution_count": null,
   "metadata": {},
   "outputs": [],
   "source": [
    "matrizA[1,1] = 10\n",
    "print(f\"A[1,1]: {matrizA[1,1]}\")\n",
    "\n",
    "a = matrizA[0, 0]\n",
    "print(f\"A[0,0]: {a}\")"
   ]
  },
  {
   "cell_type": "markdown",
   "metadata": {},
   "source": [
    "3. Implemente la indización para la clase `Matriz` por medio de acceso a campos de la forma: `a = matriz._0_6` o `matriz._1_2 = 9`."
   ]
  },
  {
   "cell_type": "code",
   "execution_count": null,
   "metadata": {},
   "outputs": [],
   "source": [
    "matrizA._0_0 = 100\n",
    "print(f\"A[0,0]: {matrizA._0_0}\")\n",
    "\n",
    "a = matrizA._0_0\n",
    "print(f\"A[0,0]: {a}\")"
   ]
  },
  {
   "cell_type": "markdown",
   "metadata": {},
   "source": [
    "4. Los objetos matrices deberán ser iterables. El iterador de una matriz con `n` filas y `m` columnas debe devolver los elementos en el siguiente orden: `matriz_1_1, matriz_1_2, ..., matriz_1_m, matriz_2_1, ..., matriz_n_m`"
   ]
  },
  {
   "cell_type": "code",
   "execution_count": null,
   "metadata": {},
   "outputs": [],
   "source": [
    "print(f\"MatrizA: \\n{matrizA}\\n\")\n",
    "\n",
    "\n",
    "a = iter(matrizA)\n",
    "\n",
    "for valor in a:\n",
    "    print(valor)"
   ]
  },
  {
   "cell_type": "markdown",
   "metadata": {},
   "source": [
    "5. Al tipo matriz se podrá aplicar siempre el método `as_type()` que devuelve una nueva matriz con todos los tipos convertidos al tipo `type`. Suponga que existe un constructor en `type` que convierte de cualquier tipo a type. Por ejemplo:\n",
    "\n",
    "``` c#\n",
    "m = Matriz(2, 3) # crea una matriz de int con valor 0s.\n",
    "mf = m.as_float() # mf es una matriz de 0s pero de tipo float.\n",
    "```"
   ]
  },
  {
   "cell_type": "code",
   "execution_count": null,
   "metadata": {},
   "outputs": [],
   "source": [
    "m = Matriz(2, 3,5)\n",
    "print(f\"Matriz Original: \\n{m}\\n\")\n",
    "mf = m.as_type(float)\n",
    "print(f\"Matriz de float: \\n{mf}\\n\")"
   ]
  },
  {
   "cell_type": "markdown",
   "metadata": {},
   "source": [
    "##  Resolución de miembros y métodos en `Python`"
   ]
  },
  {
   "cell_type": "markdown",
   "metadata": {},
   "source": [
    "\n",
    "La resolución de miembros en Python se refiere al proceso de determinar a qué clase pertenece un miembro (un método o un atributo) cuando se accede a él desde una instancia de una clase. Esto es particularmente relevante en el contexto de la herencia, donde una clase puede heredar de una o más clases base.\n",
    "\n",
    "Python utiliza el concepto de \"orden de resolución de métodos\" (MRO, por sus siglas en inglés, Method Resolution Order) para determinar la secuencia en la que se buscan los métodos o atributos de una clase durante el tiempo de ejecución. El MRO se gestiona mediante el algoritmo C3, que es un algoritmo linealizador de clases. Este asegura que los métodos se resuelvan en un orden específico y evita ambigüedades en situaciones de herencia múltiple. Es posible acceder a la MRO de una clase utilizando el atributo `__mro__` o la función `mro()`.\n",
    "\n",
    "La función `super()` en Python se utiliza para acceder al método de la clase base en lugar del método de la clase actual. La resolución de miembros, en este contexto, se refiere a cómo se determina cuál es la clase base y, por lo tanto, cuál es el método al que se debe acceder.\n",
    "\n",
    "Un ejemplo simple puede ayudar a entender mejor este concepto:\n"
   ]
  },
  {
   "cell_type": "code",
   "execution_count": null,
   "metadata": {},
   "outputs": [],
   "source": [
    "class A:\n",
    "    def saludar(self):\n",
    "        return \"Hola desde A\"\n",
    "\n",
    "class B(A):\n",
    "    def saludar(self):\n",
    "        return \"Hola desde B, \" + super().saludar()\n",
    "\n",
    "class C(A):\n",
    "    def saludar(self):\n",
    "        return \"Hola desde C, \" + super().saludar()\n",
    "\n",
    "class D(B, C):\n",
    "    pass\n",
    "\n",
    "instancia_d = D()\n",
    "print(instancia_d.saludar())"
   ]
  },
  {
   "cell_type": "markdown",
   "metadata": {},
   "source": [
    "\n",
    "\n",
    "En este ejemplo, `D` hereda de `B` y `C`, y ambas clases heredan de `A`. Al llamar al método `saludar()` en una instancia de `D`, la resolución de miembros y el MRO aseguran que el método `saludar()` de `B` se ejecute antes que el de `C` y que, finalmente, el de `A` sea ejecutado. Esto produce la siguiente salida:\n",
    "\n",
    "```\n",
    "Hola desde B, Hola desde C, Hola desde A\n",
    "```\n"
   ]
  },
  {
   "cell_type": "markdown",
   "metadata": {},
   "source": [
    "## Funcionamiento de `super()`\n",
    "Como habíamos dicho la función `super()` en Python se utiliza para llamar a métodos en la clase base en el orden definido por el MRO. Si la herencia es simple, `super()` llama recursivamente a los métodos de la clase padre. En el caso de la herencia múltiple, el uso de `super()` puede provocar resultados inesperados si no se conoce su funcionamiento. Veamos el la jerarquía definida en el ejemplo anterior:\n",
    "\n",
    "![D hereda de B y C, B hereda de A, C hereda de A](./image.png)\n",
    "\n",
    "En este caso el orden definido por el MRO sería: D,B,C,A.\n",
    "Es decir, el llamado a `super()` buscaría los métodos de las clases en una especie de orden topológico, y no exactamente siguiendo la herencia de hijo a padre como se podría asumir (erróneamente). Por lo tanto, es mejor evitar el uso de `super()` en la herencia múltiple y llamar a los métodos de la clase padre directamente.\n",
    "\n",
    "En el caso de los métodos mágicos, `super()` es especialmente útil para llamar a la implementación de la clase base de estos métodos desde una subclase.\n",
    "\n",
    "Veamos un ejemplo con el método mágico `__init__`:"
   ]
  },
  {
   "cell_type": "code",
   "execution_count": null,
   "metadata": {},
   "outputs": [],
   "source": [
    "class MiClaseBase:\n",
    "    def __init__(self, valor):\n",
    "        self.valor = valor\n",
    "\n",
    "class MiSubClase(MiClaseBase):\n",
    "    def __init__(self, valor, otro_valor):\n",
    "        super().__init__(valor)  # Llamando al __init__ de la clase base\n",
    "        self.otro_valor = otro_valor\n",
    "\n",
    "# Creando una instancia de la subclase\n",
    "objeto = MiSubClase(10, 20)\n",
    "\n",
    "print(objeto.valor)       # Accediendo al atributo de la clase base\n",
    "print(objeto.otro_valor)  # Accediendo al atributo de la subclase"
   ]
  },
  {
   "cell_type": "markdown",
   "metadata": {},
   "source": [
    "## Métodos mágicos"
   ]
  },
  {
   "cell_type": "markdown",
   "metadata": {},
   "source": [
    "Una clase puede implementar ciertas operaciones que son invocadas por una sintaxis especial (como operaciones aritméticas o indexación) mediante la definición los **métodos especiales**. Este es el enfoque de `Python` para la sobrecarga de operadores, permitiendo que las clases definan su propio comportamiento con respecto a los operadores del lenguaje. Por ejemplo, si una clase define un método llamado `__getitem__()`, y x es una instancia de esta clase, entonces x[i] es aproximadamente equivalente a type(x).`__getitem__(x, i)`. Si no se define un método apropiado, entonces los intentos de ejecutar una operación generan excepción (normalmente AttributeError o TypeError).\n",
    "\n",
    "Establecer un método especial en None u omitirlo, indica que la operación correspondiente no está disponible. Por ejemplo, si una clase no establece `__iter__()` , entonces la clase no es iterable, por lo que llamar a iter() en sus instancias generará un TypeError (sin recurrir a `__getitem__()`)."
   ]
  },
  {
   "cell_type": "markdown",
   "metadata": {},
   "source": [
    "Por qué los métodos especiales tienen una sintaxis rara?\n",
    "\n",
    "\"...the second bit of Python rationale I promised to explain is the reason\n",
    "why I chose special methods to look `__special__` and not merely\n",
    "special. I was anticipating lots of operations that classes might want\n",
    "to override, some standard (e.g. `__add__` or `__getitem__`), some not so\n",
    "standard (e.g. pickle's `__reduce__` for a long time had no support in C\n",
    "code at all). I didn't want these special operations to use ordinary\n",
    "method names, because then pre-existing classes, or classes written by\n",
    "users without an encyclopedic memory for all the special methods,\n",
    "would be liable to accidentally define operations they didn't mean to\n",
    "implement, with possibly disastrous consequences. Ivan Krstić\n",
    "explained this more concise in his message, which arrived after I'd\n",
    "written all this up...\" - [Guido van Rossum](https://mail.python.org/pipermail/python-3000/2006-November/004643.html)"
   ]
  },
  {
   "cell_type": "markdown",
   "metadata": {},
   "source": [
    "### Métodos mágicos de Python más comunes:"
   ]
  },
  {
   "cell_type": "markdown",
   "metadata": {},
   "source": [
    "`__new__` y `__init__` son ambos métodos mágicos en Python que se utilizan en la creación de objetos, pero tienen algunas diferencias clave:\n",
    "\n",
    "- `__new__` es el primer paso en la creación de un objeto. Toma la clase como primer argumento, seguido de cualquier otro argumento que se pase al constructor. Su principal responsabilidad es crear y devolver la nueva instancia del objeto. Este método es raramente sobrescrito, excepto en casos muy particulares o cuando se está manipulando aspectos de bajo nivel de la creación del objeto.\n",
    "\n",
    "- `__init__` es el segundo paso en la creación de un objeto, después de `__new__`. Toma la nueva instancia creada por `__new__` (que se pasa como el primer argumento, usualmente denominado `self`) y cualquier otro argumento que se pase al constructor, y lo utiliza para inicializar el objeto. Este es el método que se sobrescribe más comúnmente cuando se crea una nueva clase para definir cómo se inicializan los objetos de esa clase.\n",
    "\n",
    "En resumen, `__new__` se encarga de la creación del objeto, y `__init__` se encarga de la inicialización del objeto una vez creado."
   ]
  },
  {
   "cell_type": "code",
   "execution_count": null,
   "metadata": {},
   "outputs": [],
   "source": [
    "class MiClase:\n",
    "    def __new__(cls, *args, **kwargs):\n",
    "        print(\"MiClase.__new__ llamado\")\n",
    "        instancia = object.__new__(cls)\n",
    "        return instancia\n",
    "\n",
    "    def __init__(self, valor):\n",
    "        print(\"MiClase.__init__ llamado\")\n",
    "        self.valor = valor\n",
    "\n",
    "mi_instancia = MiClase(\"Hola, mundo\")"
   ]
  },
  {
   "cell_type": "markdown",
   "metadata": {},
   "source": [
    "`__repr__` y `__str__` son ambos métodos mágicos en Python que se utilizan para representar un objeto de una manera legible. Ambos métodos son llamados cuando se utiliza la función `print()` para imprimir un objeto, pero hay algunas diferencias clave:\n",
    "\n",
    "- `__repr__` se utiliza para devolver la representación oficial de un objeto, si es posible debería ser una expresión válida de Python que pudiera utilizarse para recrear un objeto con el mismo valor (dado un entorno apropiado).\n",
    "\n",
    "- `__str__` se utiliza para devolver una representación legible de un objeto. Es llamado con la función `print()` o `str()`. Si no se define `__str__`, Python llamará a `__repr__` en su lugar.\n"
   ]
  },
  {
   "cell_type": "code",
   "execution_count": null,
   "metadata": {},
   "outputs": [],
   "source": [
    "class MiClase:\n",
    "    def __init__(self, valor):\n",
    "        self.valor = valor\n",
    "\n",
    "    def __repr__(self):\n",
    "        return f\"MiClase({self.valor!r})\"\n",
    "    \n",
    "    # def __str__(self):\n",
    "    #     return f\"Instancia de MiClase con el valor {self.valor!r}\"\n",
    "\n",
    "instancia = MiClase(10)\n",
    "print(\"Si no se encuentra __str__, se imprime __repr__\")\n",
    "print(instancia)"
   ]
  },
  {
   "cell_type": "code",
   "execution_count": null,
   "metadata": {},
   "outputs": [],
   "source": [
    "class MiClase:\n",
    "    def __init__(self, valor):\n",
    "        self.valor = valor\n",
    "\n",
    "    def __repr__(self):\n",
    "        return f\"MiClase({self.valor!r})\"\n",
    "\n",
    "    def __str__(self):\n",
    "        return f\"Instancia de MiClase con el valor {self.valor!r}\"\n",
    "\n",
    "instancia = MiClase(10)\n",
    "print(\"Imprimiendo con __str__\")\n",
    "print(instancia)\n",
    "print(\"Imprimiendo la __repr__\")\n",
    "print(repr(instancia))"
   ]
  },
  {
   "cell_type": "markdown",
   "metadata": {},
   "source": [
    "Métodos de comparación y su correspondencia con los operadores de comparación: \n",
    "\n",
    "``` python\n",
    "object.__lt__(self, other) # self < other\n",
    "object.__le__(self, other) # self <= other\n",
    "object.__eq__(self, other) # self == other\n",
    "object.__ne__(self, other) # self != other\n",
    "object.__gt__(self, other) # self > other\n",
    "object.__ge__(self, other) # self >= other\n",
    "```\n",
    "En ocasiones no es necesario tener explicitamente todas implementadas, ya que Python puede inferir el resultado de una operación de comparación a partir de otras. Por ejemplo, si `__eq__` y `__ne__` no están implementados, Python invocará `__lt__` y `__gt__` para determinar el resultado de `__ne__`.\n"
   ]
  },
  {
   "cell_type": "code",
   "execution_count": null,
   "metadata": {},
   "outputs": [],
   "source": [
    "class MiClase:\n",
    "    def __init__(self, valor):\n",
    "        self.valor = valor\n",
    "\n",
    "    def __lt__(self, otro):\n",
    "        return self.valor < otro.valor\n",
    "    \n",
    "    def __le__(self, otro):\n",
    "        return self.valor <= otro.valor\n",
    "    \n",
    "    def __gt__(self, otro):\n",
    "        return self.valor > otro.valor\n",
    "\n",
    "a = MiClase(10)\n",
    "b = MiClase(20)\n",
    "\n",
    "print(a == b)\n",
    "print(a != b)\n",
    "print(a < b)\n",
    "print(a <= b)\n",
    "print(a > b)\n",
    "print(a >= b)\n",
    "    "
   ]
  },
  {
   "cell_type": "markdown",
   "metadata": {},
   "source": [
    "Sobrecarga de operadores numéricos y su correspondencia con los operadores aritméticos:\n",
    "\n",
    "``` python\n",
    "object.__add__(self, other) # self + other\n",
    "object.__sub__(self, other) # self - other\n",
    "object.__mul__(self, other) # self * other\n",
    "object.__matmul__(self, other) # self @ other\n",
    "object.__truediv__(self, other) # self / other\n",
    "object.__floordiv__(self, other) # self // other\n",
    "object.__mod__(self, other) # self % other \n",
    "object.__divmod__(self, other) # divmod(self, other)\n",
    "object.__pow__(self, other[, modulo]) # self ** other or pow(self, other, modulo)\n",
    "object.__lshift__(self, other) # self << other\n",
    "object.__rshift__(self, other) # self >> other\n",
    "object.__and__(self, other) # self & other\n",
    "object.__xor__(self, other) # self ^ other \n",
    "object.__or__(self, other)  # self | other\n",
    "```\n"
   ]
  },
  {
   "cell_type": "code",
   "execution_count": null,
   "metadata": {},
   "outputs": [],
   "source": [
    "class MiClase:\n",
    "    def __init__(self, valor):\n",
    "        self.valor = valor\n",
    "\n",
    "    def __add__(self, otro):\n",
    "        return self.valor + otro.valor\n",
    "    \n",
    "a = MiClase(10)\n",
    "b = MiClase(20)\n",
    "\n",
    "print(a + b)  # Salida: 30"
   ]
  },
  {
   "cell_type": "markdown",
   "metadata": {},
   "source": [
    "- `__getitem__` y `__setitem__` Son llamados con la sintaxis self[key] y self[key] = value respectivamente. Como su nombre indica, se utilizan para obtener y establecer valores.\n",
    "- `__len__` Debe devolver la longitud del objeto.\n",
    "- `__iter__` Debe devolver un iterador para el objeto. Debe poder ser usado en un bucle for.\n",
    "- `__next__` Debe devolver el siguiente elemento en el iterador.\n",
    "- `__contains__` Debe devolver True si el objeto contiene el valor especificado, False en caso contrario."
   ]
  },
  {
   "cell_type": "code",
   "execution_count": null,
   "metadata": {},
   "outputs": [],
   "source": [
    "class MiClase:\n",
    "    def __init__(self, lista):\n",
    "        self.lista = lista\n",
    "\n",
    "    def __getitem__(self, indice):\n",
    "        return self.lista[indice]\n",
    "    \n",
    "    def __setitem__(self, indice, valor):\n",
    "        self.lista[indice] = valor\n",
    "    \n",
    "    def __len__(self):\n",
    "        return len(self.lista)\n",
    "    \n",
    "    def __iter__(self):\n",
    "        for valor in self.lista:\n",
    "            yield valor\n",
    "        \n",
    "mi_lista = MiClase([1, 2, 3, 4, 5])\n",
    "\n",
    "print(\"modificando valores de la lista:\")\n",
    "print(mi_lista[0])  # Salida: 1\n",
    "mi_lista[0] = 10\n",
    "print(mi_lista[0])  # Salida: 10\n",
    "\n",
    "print(\"obteniendo la longitud de la lista:\")\n",
    "print(len(mi_lista))  # Salida: 5\n",
    "\n",
    "\n",
    "print(\"iterando sobre la lista:\")\n",
    "for valor in mi_lista:\n",
    "    print(valor)\n",
    "\n"
   ]
  },
  {
   "cell_type": "markdown",
   "metadata": {},
   "source": [
    "Hay muchos otros métodos mágicos que se pueden implementar en una clase, no es necesario tenerlos todos implementados, pero pueden ser útiles en diferentes situaciones. [La documentación oficial de Python proporciona una lista completa de los métodos mágicos disponibles y su comportamiento esperado](https://docs.python.org/3/reference/datamodel.html#special-method-names)."
   ]
  },
  {
   "cell_type": "markdown",
   "metadata": {},
   "source": []
  },
  {
   "cell_type": "markdown",
   "metadata": {},
   "source": [
    "Existen otros de estos métodos más allá de los mencionados como son:\n"
   ]
  },
  {
   "cell_type": "markdown",
   "metadata": {},
   "source": [
    "Bibliografía:\n",
    "https://mail.python.org/pipermail/python-3000/2006-November/004643.html\n",
    "https://docs.python.org/3/faq/design.html "
   ]
  }
 ],
 "metadata": {
  "kernelspec": {
   "display_name": "base",
   "language": "python",
   "name": "python3"
  },
  "language_info": {
   "codemirror_mode": {
    "name": "ipython",
    "version": 3
   },
   "file_extension": ".py",
   "mimetype": "text/x-python",
   "name": "python",
   "nbconvert_exporter": "python",
   "pygments_lexer": "ipython3",
   "version": "3.11.5"
  }
 },
 "nbformat": 4,
 "nbformat_minor": 2
}
