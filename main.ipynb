{
 "cells": [
  {
   "cell_type": "markdown",
   "metadata": {},
   "source": [
    "# Seminario 5:  Python Mágico"
   ]
  },
  {
   "cell_type": "markdown",
   "metadata": {},
   "source": [
    "[Problema a implementar](seminario_05_python_magico.md)\n",
    "Implementación de la clase Matriz:"
   ]
  },
  {
   "cell_type": "code",
   "execution_count": 1,
   "metadata": {},
   "outputs": [],
   "source": [
    "class Matriz:\n",
    "    def __init__(self, filas, columnas, valor_inicial=0):\n",
    "        self.filas = filas\n",
    "        self.columnas = columnas\n",
    "        self.matriz = [[valor_inicial]*columnas for _ in range(filas)]\n",
    "\n",
    "    def __getitem__(self, indices):\n",
    "        fila, columna = indices\n",
    "        return self.matriz[fila][columna]\n",
    "\n",
    "    def __setitem__(self, indices, valor):\n",
    "        fila, columna = indices\n",
    "        self.matriz[fila][columna] = valor\n",
    "        \n",
    "    def __getattr__(self, attr):\n",
    "        fila, columna = map(int, attr.split('_')[1:])\n",
    "        return self.matriz[fila][columna]\n",
    "\n",
    "    def __setattr__(self, attr, valor):\n",
    "        if attr.startswith('_'):\n",
    "            fila, columna = map(int, attr.split('_')[1:])\n",
    "            self.matriz[fila][columna] = valor\n",
    "        else:\n",
    "            # super().__setattr__(attr, valor)\n",
    "            object.__setattr__(self, attr, valor)\n",
    "\n",
    "    def __iter__(self):\n",
    "        for fila in self.matriz:\n",
    "            for valor in fila:\n",
    "                yield valor\n",
    "\n",
    "    def as_type(self, tipo):\n",
    "        nueva_matriz = Matriz(self.filas, self.columnas)\n",
    "        nueva_matriz.matriz = [[tipo(valor) for valor in fila] for fila in self.matriz]\n",
    "        return nueva_matriz\n",
    "\n",
    "    def __str__(self):\n",
    "        return '\\n'.join([' '.join(map(str, fila)) for fila in self.matriz])\n",
    "\n",
    "    # def _1_1 (self):\n",
    "    #     print(\"se vuelve loco?\")\n",
    "\n",
    "    def __add__(self, other):\n",
    "        if self.filas != other.filas or self.columnas != other.columnas:\n",
    "            raise ValueError('Las matrices deben tener las mismas dimensiones')\n",
    "        nueva_matriz = Matriz(self.filas, self.columnas)\n",
    "        nueva_matriz.matriz = [[self[fila, columna] + other[fila, columna] for columna in range(self.columnas)] for fila in range(self.filas)]\n",
    "        return nueva_matriz\n",
    "    \n",
    "    def __sub__(self, other):\n",
    "        if self.filas != other.filas or self.columnas != other.columnas:\n",
    "            raise ValueError('Las matrices deben tener las mismas dimensiones')\n",
    "        nueva_matriz = Matriz(self.filas, self.columnas)\n",
    "        nueva_matriz.matriz = [[self[fila, columna] - other[fila, columna] for columna in range(self.columnas)] for fila in range(self.filas)]\n",
    "        return nueva_matriz\n",
    "    \n",
    "    def __mul__(self, other):\n",
    "        if self.columnas != other.filas:\n",
    "            raise ValueError('El número de columnas de la primera matriz debe ser igual al número de filas de la segunda matriz')\n",
    "        nueva_matriz = Matriz(self.filas, other.columnas)\n",
    "        nueva_matriz.matriz = [[sum(self[fila, k] * other[k, columna] for k in range(self.columnas)) for columna in range(other.columnas)] for fila in range(self.filas)]\n",
    "        return nueva_matriz\n"
   ]
  },
  {
   "cell_type": "markdown",
   "metadata": {},
   "source": [
    "1. Implemente la clase `Matriz`, para representar matrices con las operaciones de suma y producto. Implemente además otras funcionalidades que crea necesarias."
   ]
  },
  {
   "cell_type": "code",
   "execution_count": 6,
   "metadata": {},
   "outputs": [
    {
     "name": "stdout",
     "output_type": "stream",
     "text": [
      "MatrizA: \n",
      "1 1\n",
      "1 1\n",
      "\n",
      "MatrizB: \n",
      "2 2\n",
      "2 2\n",
      "\n",
      "A+B: \n",
      "3 3\n",
      "3 3\n",
      "\n",
      "A-B: \n",
      "-1 -1\n",
      "-1 -1\n",
      "\n",
      "A*B:\n",
      "4 4\n",
      "4 4\n",
      "\n"
     ]
    }
   ],
   "source": [
    "matrizA = Matriz(2, 2, 1)\n",
    "matrizB = Matriz(2, 2, 2)\n",
    "print(f\"MatrizA: \\n{matrizA}\\n\")\n",
    "print(f\"MatrizB: \\n{matrizB}\\n\")\n",
    "print(f\"A+B: \\n{matrizA + matrizB}\\n\")\n",
    "print(f\"A-B: \\n{matrizA - matrizB}\\n\")\n",
    "print(f\"A*B:\\n{matrizA * matrizB}\\n\")"
   ]
  },
  {
   "cell_type": "markdown",
   "metadata": {},
   "source": [
    "2. Implemente la indización para la clase `Matriz` de forma tal que se puedan hacer construcciones como las siguientes: `a = matriz[0, 6]` o `matriz[1, 2] = 9`."
   ]
  },
  {
   "cell_type": "code",
   "execution_count": 11,
   "metadata": {},
   "outputs": [
    {
     "name": "stdout",
     "output_type": "stream",
     "text": [
      "A[1,1]: 10\n",
      "A[0,0]: 1\n"
     ]
    }
   ],
   "source": [
    "matrizA[1,1] = 10\n",
    "print(f\"A[1,1]: {matrizA[1,1]}\")\n",
    "\n",
    "a = matrizA[0, 0]\n",
    "print(f\"A[0,0]: {a}\")"
   ]
  },
  {
   "cell_type": "markdown",
   "metadata": {},
   "source": [
    "3. Implemente la indización para la clase `Matriz` por medio de acceso a campos de la forma: `a = matriz._0_6` o `matriz._1_2 = 9`."
   ]
  },
  {
   "cell_type": "code",
   "execution_count": 12,
   "metadata": {},
   "outputs": [
    {
     "name": "stdout",
     "output_type": "stream",
     "text": [
      "A[0,0]: 100\n",
      "A[0,0]: 100\n"
     ]
    }
   ],
   "source": [
    "matrizA._0_0 = 100\n",
    "print(f\"A[0,0]: {matrizA._0_0}\")\n",
    "\n",
    "a = matrizA._0_0\n",
    "print(f\"A[0,0]: {a}\")"
   ]
  },
  {
   "cell_type": "markdown",
   "metadata": {},
   "source": [
    "4. Los objetos matrices deberán ser iterables. El iterador de una matriz con `n` filas y `m` columnas debe devolver los elementos en el siguiente orden: `matriz_1_1, matriz_1_2, ..., matriz_1_m, matriz_2_1, ..., matriz_n_m`"
   ]
  },
  {
   "cell_type": "code",
   "execution_count": 15,
   "metadata": {},
   "outputs": [
    {
     "name": "stdout",
     "output_type": "stream",
     "text": [
      "MatrizA: \n",
      "100 1\n",
      "1 10\n",
      "\n",
      "100\n",
      "1\n",
      "1\n",
      "10\n"
     ]
    }
   ],
   "source": [
    "print(f\"MatrizA: \\n{matrizA}\\n\")\n",
    "\n",
    "\n",
    "a = iter(matrizA)\n",
    "\n",
    "for valor in a:\n",
    "    print(valor)"
   ]
  },
  {
   "cell_type": "markdown",
   "metadata": {},
   "source": [
    "5. Al tipo matriz se podrá aplicar siempre el método `as_type()` que devuelve una nueva matriz con todos los tipos convertidos al tipo `type`. Suponga que existe un constructor en `type` que convierte de cualquier tipo a type. Por ejemplo:\n",
    "\n",
    "``` c#\n",
    "m = Matriz(2, 3) # crea una matriz de int con valor 0s.\n",
    "mf = m.as_float() # mf es una matriz de 0s pero de tipo float.\n",
    "```"
   ]
  },
  {
   "cell_type": "code",
   "execution_count": 24,
   "metadata": {},
   "outputs": [
    {
     "name": "stdout",
     "output_type": "stream",
     "text": [
      "Matriz Original: \n",
      "5 5 5\n",
      "5 5 5\n",
      "\n",
      "Matriz de float: \n",
      "5.0 5.0 5.0\n",
      "5.0 5.0 5.0\n",
      "\n"
     ]
    }
   ],
   "source": [
    "m = Matriz(2, 3,5)\n",
    "print(f\"Matriz Original: \\n{m}\\n\")\n",
    "mf = m.as_type(float)\n",
    "print(f\"Matriz de float: \\n{mf}\\n\")"
   ]
  },
  {
   "cell_type": "markdown",
   "metadata": {},
   "source": [
    "##  Resolución de miembros y métodos en `Python`"
   ]
  },
  {
   "cell_type": "markdown",
   "metadata": {},
   "source": [
    "// aqui viene todo lo del mro"
   ]
  },
  {
   "cell_type": "markdown",
   "metadata": {},
   "source": [
    "## Métodos mágicos"
   ]
  },
  {
   "cell_type": "markdown",
   "metadata": {},
   "source": [
    "Los métodos mágicos son métodos especiales que tienen doble guion bajo al principio y al final de sus nombres. Son métodos que nos permiten cambiar el comportamiento que van a tener nuestras clases o extender funcionalidades que ya existen en Python. Es un poco análogo a los operadores sobrecargados de C#."
   ]
  },
  {
   "cell_type": "markdown",
   "metadata": {},
   "source": [
    "Por qué los métodos especiales tienen una sintaxis rara?\n",
    "\n",
    "\"...he second bit of Python rationale I promised to explain is the reason\n",
    "why I chose special methods to look __special__ and not merely\n",
    "special. I was anticipating lots of operations that classes might want\n",
    "to override, some standard (e.g. __add__ or __getitem__), some not so\n",
    "standard (e.g. pickle's __reduce__ for a long time had no support in C\n",
    "code at all). I didn't want these special operations to use ordinary\n",
    "method names, because then pre-existing classes, or classes written by\n",
    "users without an encyclopedic memory for all the special methods,\n",
    "would be liable to accidentally define operations they didn't mean to\n",
    "implement, with possibly disastrous consequences. Ivan Krstić\n",
    "explained this more concise in his message, which arrived after I'd\n",
    "written all this up...\" - [Guido van Rossum](https://mail.python.org/pipermail/python-3000/2006-November/004643.html)"
   ]
  },
  {
   "cell_type": "code",
   "execution_count": null,
   "metadata": {},
   "outputs": [],
   "source": [
    "Python "
   ]
  },
  {
   "cell_type": "markdown",
   "metadata": {},
   "source": [
    "Bibliografía:\n",
    "https://mail.python.org/pipermail/python-3000/2006-November/004643.html\n",
    "https://docs.python.org/3/faq/design.html "
   ]
  }
 ],
 "metadata": {
  "kernelspec": {
   "display_name": "base",
   "language": "python",
   "name": "python3"
  },
  "language_info": {
   "codemirror_mode": {
    "name": "ipython",
    "version": 3
   },
   "file_extension": ".py",
   "mimetype": "text/x-python",
   "name": "python",
   "nbconvert_exporter": "python",
   "pygments_lexer": "ipython3",
   "version": "3.8.10"
  }
 },
 "nbformat": 4,
 "nbformat_minor": 2
}
