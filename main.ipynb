{
 "cells": [
  {
   "cell_type": "markdown",
   "metadata": {},
   "source": [
    "# Seminario 5:  Python Mágico"
   ]
  },
  {
   "cell_type": "markdown",
   "metadata": {},
   "source": [
    "[Problema a implementar](seminario_05_python_magico.md)\n",
    "Implementación de la clase Matriz:"
   ]
  },
  {
   "cell_type": "code",
   "execution_count": 65,
   "metadata": {},
   "outputs": [],
   "source": [
    "class Matriz:\n",
    "    def __init__(self, filas, columnas, valor_inicial=0):\n",
    "        self.filas = filas\n",
    "        self.columnas = columnas\n",
    "        self.matriz = [[valor_inicial]*columnas for _ in range(filas)]\n",
    "\n",
    "    def __getitem__(self, indices):\n",
    "        fila, columna = indices\n",
    "        return self.matriz[fila][columna]\n",
    "\n",
    "    def __setitem__(self, indices, valor):\n",
    "        fila, columna = indices\n",
    "        self.matriz[fila][columna] = valor\n",
    "        \n",
    "    def __getattr__(self, attr):\n",
    "        fila, columna = map(int, attr.split('_')[1:])\n",
    "        return self.matriz[fila][columna]\n",
    "\n",
    "    def __setattr__(self, attr, valor):\n",
    "        if attr.startswith('_'):\n",
    "            fila, columna = map(int, attr.split('_')[1:])\n",
    "            self.matriz[fila][columna] = valor\n",
    "        else:\n",
    "            # super().__setattr__(attr, valor)\n",
    "            object.__setattr__(self, attr, valor)\n",
    "\n",
    "    def __iter__(self):\n",
    "        for fila in self.matriz:\n",
    "            for valor in fila:\n",
    "                yield valor\n",
    "\n",
    "    def as_type(self, tipo):\n",
    "        nueva_matriz = Matriz(self.filas, self.columnas)\n",
    "        nueva_matriz.matriz = [[tipo(valor) for valor in fila] for fila in self.matriz]\n",
    "        return nueva_matriz\n",
    "\n",
    "    def __str__(self):\n",
    "        return '\\n'.join([' '.join(map(str, fila)) for fila in self.matriz])\n",
    "\n",
    "    # def _1_1 (self):\n",
    "    #     print(\"se vuelve loco?\")\n",
    "\n",
    "    def __add__(self, other):\n",
    "        if self.filas != other.filas or self.columnas != other.columnas:\n",
    "            raise ValueError('Las matrices deben tener las mismas dimensiones')\n",
    "        nueva_matriz = Matriz(self.filas, self.columnas)\n",
    "        nueva_matriz.matriz = [[self[fila, columna] + other[fila, columna] for columna in range(self.columnas)] for fila in range(self.filas)]\n",
    "        return nueva_matriz\n",
    "    \n",
    "    def __sub__(self, other):\n",
    "        if self.filas != other.filas or self.columnas != other.columnas:\n",
    "            raise ValueError('Las matrices deben tener las mismas dimensiones')\n",
    "        nueva_matriz = Matriz(self.filas, self.columnas)\n",
    "        nueva_matriz.matriz = [[self[fila, columna] - other[fila, columna] for columna in range(self.columnas)] for fila in range(self.filas)]\n",
    "        return nueva_matriz\n",
    "    \n",
    "    def __mul__(self, other):\n",
    "        if self.columnas != other.filas:\n",
    "            raise ValueError('El número de columnas de la primera matriz debe ser igual al número de filas de la segunda matriz')\n",
    "        nueva_matriz = Matriz(self.filas, other.columnas)\n",
    "        nueva_matriz.matriz = [[sum(self[fila, k] * other[k, columna] for k in range(self.columnas)) for columna in range(other.columnas)] for fila in range(self.filas)]\n",
    "        return nueva_matriz\n"
   ]
  },
  {
   "cell_type": "markdown",
   "metadata": {},
   "source": [
    "1. Implemente la clase `Matriz`, para representar matrices con las operaciones de suma y producto. Implemente además otras funcionalidades que crea necesarias."
   ]
  },
  {
   "cell_type": "code",
   "execution_count": 66,
   "metadata": {},
   "outputs": [
    {
     "name": "stdout",
     "output_type": "stream",
     "text": [
      "MatrizA: \n",
      "1 1\n",
      "1 1\n",
      "\n",
      "MatrizB: \n",
      "2 2\n",
      "2 2\n",
      "\n",
      "A+B: \n",
      "3 3\n",
      "3 3\n",
      "\n",
      "A-B: \n",
      "-1 -1\n",
      "-1 -1\n",
      "\n",
      "A*B:\n",
      "4 4\n",
      "4 4\n",
      "\n"
     ]
    }
   ],
   "source": [
    "matrizA = Matriz(2, 2, 1)\n",
    "matrizB = Matriz(2, 2, 2)\n",
    "print(f\"MatrizA: \\n{matrizA}\\n\")\n",
    "print(f\"MatrizB: \\n{matrizB}\\n\")\n",
    "print(f\"A+B: \\n{matrizA + matrizB}\\n\")\n",
    "print(f\"A-B: \\n{matrizA - matrizB}\\n\")\n",
    "print(f\"A*B:\\n{matrizA * matrizB}\\n\")"
   ]
  },
  {
   "cell_type": "markdown",
   "metadata": {},
   "source": [
    "2. Implemente la indización para la clase `Matriz` de forma tal que se puedan hacer construcciones como las siguientes: `a = matriz[0, 6]` o `matriz[1, 2] = 9`."
   ]
  },
  {
   "cell_type": "code",
   "execution_count": 67,
   "metadata": {},
   "outputs": [
    {
     "name": "stdout",
     "output_type": "stream",
     "text": [
      "A[1,1]: 10\n",
      "A[0,0]: 1\n"
     ]
    }
   ],
   "source": [
    "matrizA[1,1] = 10\n",
    "print(f\"A[1,1]: {matrizA[1,1]}\")\n",
    "\n",
    "a = matrizA[0, 0]\n",
    "print(f\"A[0,0]: {a}\")"
   ]
  },
  {
   "cell_type": "markdown",
   "metadata": {},
   "source": [
    "3. Implemente la indización para la clase `Matriz` por medio de acceso a campos de la forma: `a = matriz._0_6` o `matriz._1_2 = 9`."
   ]
  },
  {
   "cell_type": "code",
   "execution_count": 68,
   "metadata": {},
   "outputs": [
    {
     "name": "stdout",
     "output_type": "stream",
     "text": [
      "A[0,0]: 100\n",
      "variable a: 100\n"
     ]
    }
   ],
   "source": [
    "matrizA._0_0 = 100\n",
    "print(f\"A[0,0]: {matrizA._0_0}\")\n",
    "\n",
    "a = matrizA._0_0\n",
    "print(f\"variable a: {a}\")"
   ]
  },
  {
   "cell_type": "markdown",
   "metadata": {},
   "source": [
    "4. Los objetos matrices deberán ser iterables. El iterador de una matriz con `n` filas y `m` columnas debe devolver los elementos en el siguiente orden: `matriz_1_1, matriz_1_2, ..., matriz_1_m, matriz_2_1, ..., matriz_n_m`"
   ]
  },
  {
   "cell_type": "code",
   "execution_count": 69,
   "metadata": {},
   "outputs": [
    {
     "name": "stdout",
     "output_type": "stream",
     "text": [
      "MatrizA: \n",
      "100 1\n",
      "1 10\n",
      "\n",
      "100\n",
      "1\n",
      "1\n",
      "10\n"
     ]
    }
   ],
   "source": [
    "print(f\"MatrizA: \\n{matrizA}\\n\")\n",
    "\n",
    "\n",
    "a = iter(matrizA)\n",
    "\n",
    "for valor in a:\n",
    "    print(valor)"
   ]
  },
  {
   "cell_type": "markdown",
   "metadata": {},
   "source": [
    "5. Al tipo matriz se podrá aplicar siempre el método `as_type()` que devuelve una nueva matriz con todos los tipos convertidos al tipo `type`. Suponga que existe un constructor en `type` que convierte de cualquier tipo a type. Por ejemplo:\n",
    "\n",
    "``` c#\n",
    "m = Matriz(2, 3) # crea una matriz de int con valor 0s.\n",
    "mf = m.as_float() # mf es una matriz de 0s pero de tipo float.\n",
    "```"
   ]
  },
  {
   "cell_type": "code",
   "execution_count": 70,
   "metadata": {},
   "outputs": [
    {
     "name": "stdout",
     "output_type": "stream",
     "text": [
      "Matriz Original: \n",
      "5 5 5\n",
      "5 5 5\n",
      "\n",
      "Matriz de float: \n",
      "5.0 5.0 5.0\n",
      "5.0 5.0 5.0\n",
      "\n"
     ]
    }
   ],
   "source": [
    "m = Matriz(2, 3,5)\n",
    "print(f\"Matriz Original: \\n{m}\\n\")\n",
    "mf = m.as_type(float)\n",
    "print(f\"Matriz de float: \\n{mf}\\n\")"
   ]
  },
  {
   "cell_type": "markdown",
   "metadata": {},
   "source": [
    "##  Resolución de miembros y métodos en `Python`"
   ]
  },
  {
   "cell_type": "markdown",
   "metadata": {},
   "source": [
    "\n",
    "La resolución de miembros en Python se refiere al proceso de determinar a qué clase pertenece un miembro (un método o un atributo) cuando se accede a él desde una instancia de una clase. Esto es particularmente relevante en el contexto de la herencia, donde una clase puede heredar de una o más clases base.\n",
    "\n",
    "Python utiliza el concepto de \"orden de resolución de métodos\" (MRO, por sus siglas en inglés, Method Resolution Order) para determinar la secuencia en la que se buscan los métodos o atributos de una clase durante el tiempo de ejecución. El MRO se gestiona mediante el algoritmo C3, que es un algoritmo linealizador de clases. Este asegura que los métodos se resuelvan en un orden específico y evita ambigüedades en situaciones de herencia múltiple. Es posible acceder a la MRO de una clase utilizando el atributo `__mro__` o la función `mro()`.\n",
    "\n",
    "La función `super()` en Python se utiliza para acceder al método de la clase base en lugar del método de la clase actual. La resolución de miembros, en este contexto, se refiere a cómo se determina cuál es la clase base y, por lo tanto, cuál es el método al que se debe acceder.\n",
    "\n",
    "Un ejemplo simple puede ayudar a entender mejor este concepto:\n"
   ]
  },
  {
   "cell_type": "code",
   "execution_count": 71,
   "metadata": {},
   "outputs": [
    {
     "name": "stdout",
     "output_type": "stream",
     "text": [
      "Hola desde B, Hola desde C, Hola desde A\n"
     ]
    }
   ],
   "source": [
    "class A:\n",
    "    def saludar(self):\n",
    "        return \"Hola desde A\"\n",
    "\n",
    "class B(A):\n",
    "    def saludar(self):\n",
    "        return \"Hola desde B, \" + super().saludar()\n",
    "\n",
    "class C(A):\n",
    "    def saludar(self):\n",
    "        return \"Hola desde C, \" + super().saludar()\n",
    "\n",
    "class D(B, C):\n",
    "    pass\n",
    "\n",
    "instancia_d = D()\n",
    "print(instancia_d.saludar())"
   ]
  },
  {
   "cell_type": "markdown",
   "metadata": {},
   "source": [
    "\n",
    "\n",
    "En este ejemplo, `D` hereda de `B` y `C`, y ambas clases heredan de `A`. Al llamar al método `saludar()` en una instancia de `D`, la resolución de miembros y el MRO aseguran que el método `saludar()` de `B` se ejecute antes que el de `C` y que, finalmente, el de `A` sea ejecutado. Esto produce la siguiente salida:\n",
    "\n",
    "```\n",
    "Hola desde B, Hola desde C, Hola desde A\n",
    "```\n"
   ]
  },
  {
   "cell_type": "markdown",
   "metadata": {},
   "source": [
    "## Funcionamiento de `super()`\n",
    "Como habíamos dicho la función `super()` en Python se utiliza para llamar a métodos en la clase base en el orden definido por el MRO. Si la herencia es simple, `super()` llama recursivamente a los métodos de la clase padre. En el caso de la herencia múltiple, el uso de `super()` puede provocar resultados inesperados si no se conoce su funcionamiento. Veamos el la jerarquía definida en el ejemplo anterior:\n",
    "\n",
    "\n",
    "\n",
    "![D hereda de B y C, B hereda de A, C hereda de A](./image.png)\n",
    "\n",
    "En este caso el orden definido por el MRO sería: D,B,C,A.\n",
    "Es decir, el llamado a `super()` buscaría los métodos de las clases en una especie de orden topológico, y no exactamente siguiendo la herencia de hijo a padre como se podría asumir (erróneamente). Por lo tanto, es mejor evitar el uso de `super()` en la herencia múltiple y llamar a los métodos de la clase padre directamente.\n",
    "\n",
    "En el caso de los métodos mágicos, `super()` es especialmente útil para llamar a la implementación de la clase base de estos métodos desde una subclase.\n",
    "\n",
    "Veamos un ejemplo con el método mágico `__init__`:"
   ]
  },
  {
   "cell_type": "code",
   "execution_count": 72,
   "metadata": {},
   "outputs": [
    {
     "name": "stdout",
     "output_type": "stream",
     "text": [
      "10\n",
      "20\n"
     ]
    }
   ],
   "source": [
    "class MiClaseBase:\n",
    "    def __init__(self, valor):\n",
    "        self.valor = valor\n",
    "\n",
    "class MiSubClase(MiClaseBase):\n",
    "    def __init__(self, valor, otro_valor):\n",
    "        super().__init__(valor)  # Llamando al __init__ de la clase base\n",
    "        self.otro_valor = otro_valor\n",
    "\n",
    "# Creando una instancia de la subclase\n",
    "objeto = MiSubClase(10, 20)\n",
    "\n",
    "print(objeto.valor)       # Accediendo al atributo de la clase base\n",
    "print(objeto.otro_valor)  # Accediendo al atributo de la subclase"
   ]
  },
  {
   "cell_type": "markdown",
   "metadata": {},
   "source": [
    "## Métodos mágicos"
   ]
  },
  {
   "cell_type": "markdown",
   "metadata": {},
   "source": [
    "Una clase puede implementar ciertas operaciones que son invocadas por una sintaxis especial (como operaciones aritméticas o indexación) mediante la definición los **métodos especiales**. Este es el enfoque de `Python` para la sobrecarga de operadores, permitiendo que las clases definan su propio comportamiento con respecto a los operadores del lenguaje. Por ejemplo, si una clase define un método llamado `__getitem__()`, y x es una instancia de esta clase, entonces x[i] es aproximadamente equivalente a type(x).`__getitem__(x, i)`. Si no se define un método apropiado, entonces los intentos de ejecutar una operación generan excepción (normalmente AttributeError o TypeError).\n",
    "\n",
    "Establecer un método especial en None u omitirlo, indica que la operación correspondiente no está disponible. Por ejemplo, si una clase no establece `__iter__()` , entonces la clase no es iterable, por lo que llamar a iter() en sus instancias generará un TypeError (sin recurrir a `__getitem__()`)."
   ]
  },
  {
   "cell_type": "markdown",
   "metadata": {},
   "source": [
    "Por qué los métodos especiales tienen una sintaxis rara?\n",
    "\n",
    "\"...the second bit of Python rationale I promised to explain is the reason\n",
    "why I chose special methods to look `__special__` and not merely\n",
    "special. I was anticipating lots of operations that classes might want\n",
    "to override, some standard (e.g. `__add__` or `__getitem__`), some not so\n",
    "standard (e.g. pickle's `__reduce__` for a long time had no support in C\n",
    "code at all). I didn't want these special operations to use ordinary\n",
    "method names, because then pre-existing classes, or classes written by\n",
    "users without an encyclopedic memory for all the special methods,\n",
    "would be liable to accidentally define operations they didn't mean to\n",
    "implement, with possibly disastrous consequences. Ivan Krstić\n",
    "explained this more concise in his message, which arrived after I'd\n",
    "written all this up...\" - [Guido van Rossum](https://mail.python.org/pipermail/python-3000/2006-November/004643.html)"
   ]
  },
  {
   "cell_type": "markdown",
   "metadata": {},
   "source": [
    "### Métodos mágicos de Python más comunes:"
   ]
  },
  {
   "cell_type": "markdown",
   "metadata": {},
   "source": [
    "`__new__` y `__init__` son ambos métodos mágicos en Python que se utilizan en la creación de objetos, pero tienen algunas diferencias clave:\n",
    "\n",
    "- `__new__` es el primer paso en la creación de un objeto. Toma la clase como primer argumento, seguido de cualquier otro argumento que se pase al constructor. Su principal responsabilidad es crear y devolver la nueva instancia del objeto. Este método es raramente sobrescrito, excepto en casos muy particulares o cuando se está manipulando aspectos de bajo nivel de la creación del objeto.\n",
    "\n",
    "- `__init__` es el segundo paso en la creación de un objeto, después de `__new__`. Toma la nueva instancia creada por `__new__` (que se pasa como el primer argumento, usualmente denominado `self`) y cualquier otro argumento que se pase al constructor, y lo utiliza para inicializar el objeto. Este es el método que se sobrescribe más comúnmente cuando se crea una nueva clase para definir cómo se inicializan los objetos de esa clase.\n",
    "\n",
    "En resumen, `__new__` se encarga de la creación del objeto, y `__init__` se encarga de la inicialización del objeto una vez creado."
   ]
  },
  {
   "cell_type": "code",
   "execution_count": 73,
   "metadata": {},
   "outputs": [
    {
     "name": "stdout",
     "output_type": "stream",
     "text": [
      "MiClase.__new__ llamado\n",
      "MiClase.__init__ llamado\n"
     ]
    }
   ],
   "source": [
    "class MiClase:\n",
    "    def __new__(cls, *args, **kwargs):\n",
    "        print(\"MiClase.__new__ llamado\")\n",
    "        instancia = object.__new__(cls)\n",
    "        return instancia\n",
    "\n",
    "    def __init__(self, valor):\n",
    "        print(\"MiClase.__init__ llamado\")\n",
    "        self.valor = valor\n",
    "\n",
    "mi_instancia = MiClase(\"Hola, mundo\")"
   ]
  },
  {
   "cell_type": "markdown",
   "metadata": {},
   "source": [
    "`__repr__` y `__str__` son ambos métodos mágicos en Python que se utilizan para representar un objeto de una manera legible. Ambos métodos son llamados cuando se utiliza la función `print()` para imprimir un objeto, pero hay algunas diferencias clave:\n",
    "\n",
    "- `__repr__` se utiliza para devolver la representación oficial de un objeto, si es posible debería ser una expresión válida de Python que pudiera utilizarse para recrear un objeto con el mismo valor (dado un entorno apropiado).\n",
    "\n",
    "- `__str__` se utiliza para devolver una representación legible de un objeto. Es llamado con la función `print()` o `str()`. Si no se define `__str__`, Python llamará a `__repr__` en su lugar.\n"
   ]
  },
  {
   "cell_type": "code",
   "execution_count": 74,
   "metadata": {},
   "outputs": [
    {
     "name": "stdout",
     "output_type": "stream",
     "text": [
      "Si no se encuentra __str__, se imprime __repr__\n",
      "MiClase(10)\n"
     ]
    }
   ],
   "source": [
    "class MiClase:\n",
    "    def __init__(self, valor):\n",
    "        self.valor = valor\n",
    "\n",
    "    def __repr__(self):\n",
    "        return f\"MiClase({self.valor!r})\"\n",
    "    \n",
    "    # def __str__(self):\n",
    "    #     return f\"Instancia de MiClase con el valor {self.valor!r}\"\n",
    "\n",
    "instancia = MiClase(10)\n",
    "print(\"Si no se encuentra __str__, se imprime __repr__\")\n",
    "print(instancia)"
   ]
  },
  {
   "cell_type": "code",
   "execution_count": 75,
   "metadata": {},
   "outputs": [
    {
     "name": "stdout",
     "output_type": "stream",
     "text": [
      "Imprimiendo con __str__\n",
      "Instancia de MiClase con el valor 10\n",
      "Imprimiendo la __repr__\n",
      "MiClase(10)\n"
     ]
    }
   ],
   "source": [
    "class MiClase:\n",
    "    def __init__(self, valor):\n",
    "        self.valor = valor\n",
    "\n",
    "    def __repr__(self):\n",
    "        return f\"MiClase({self.valor!r})\"\n",
    "\n",
    "    def __str__(self):\n",
    "        return f\"Instancia de MiClase con el valor {self.valor!r}\"\n",
    "\n",
    "instancia = MiClase(10)\n",
    "print(\"Imprimiendo con __str__\")\n",
    "print(instancia)\n",
    "print(\"Imprimiendo la __repr__\")\n",
    "print(repr(instancia))"
   ]
  },
  {
   "cell_type": "markdown",
   "metadata": {},
   "source": [
    "Métodos de comparación y su correspondencia con los operadores de comparación: \n",
    "\n",
    "``` python\n",
    "object.__lt__(self, other) # self < other\n",
    "object.__le__(self, other) # self <= other\n",
    "object.__eq__(self, other) # self == other\n",
    "object.__ne__(self, other) # self != other\n",
    "object.__gt__(self, other) # self > other\n",
    "object.__ge__(self, other) # self >= other\n",
    "```\n",
    "En ocasiones no es necesario tener explicitamente todas implementadas, ya que Python puede inferir el resultado de una operación de comparación a partir de otras. Por ejemplo, si `__eq__` y `__ne__` no están implementados, Python invocará `__lt__` y `__gt__` para determinar el resultado de `__ne__`.\n"
   ]
  },
  {
   "cell_type": "code",
   "execution_count": 76,
   "metadata": {},
   "outputs": [
    {
     "name": "stdout",
     "output_type": "stream",
     "text": [
      "False\n",
      "True\n",
      "True\n",
      "True\n",
      "False\n",
      "False\n"
     ]
    }
   ],
   "source": [
    "class MiClase:\n",
    "    def __init__(self, valor):\n",
    "        self.valor = valor\n",
    "\n",
    "    def __lt__(self, otro):\n",
    "        return self.valor < otro.valor\n",
    "    \n",
    "    def __le__(self, otro):\n",
    "        return self.valor <= otro.valor\n",
    "    \n",
    "    def __gt__(self, otro):\n",
    "        return self.valor > otro.valor\n",
    "\n",
    "a = MiClase(10)\n",
    "b = MiClase(20)\n",
    "\n",
    "print(a == b)\n",
    "print(a != b)\n",
    "print(a < b)\n",
    "print(a <= b)\n",
    "print(a > b)\n",
    "print(a >= b)\n",
    "    "
   ]
  },
  {
   "cell_type": "markdown",
   "metadata": {},
   "source": [
    "Sobrecarga de operadores numéricos y su correspondencia con los operadores aritméticos:\n",
    "\n",
    "``` python\n",
    "object.__add__(self, other) # self + other\n",
    "object.__sub__(self, other) # self - other\n",
    "object.__mul__(self, other) # self * other\n",
    "object.__matmul__(self, other) # self @ other\n",
    "object.__truediv__(self, other) # self / other\n",
    "object.__floordiv__(self, other) # self // other\n",
    "object.__mod__(self, other) # self % other \n",
    "object.__divmod__(self, other) # divmod(self, other)\n",
    "object.__pow__(self, other[, modulo]) # self ** other or pow(self, other, modulo)\n",
    "object.__lshift__(self, other) # self << other\n",
    "object.__rshift__(self, other) # self >> other\n",
    "object.__and__(self, other) # self & other\n",
    "object.__xor__(self, other) # self ^ other \n",
    "object.__or__(self, other)  # self | other\n",
    "```\n"
   ]
  },
  {
   "cell_type": "code",
   "execution_count": 77,
   "metadata": {},
   "outputs": [
    {
     "name": "stdout",
     "output_type": "stream",
     "text": [
      "30\n"
     ]
    }
   ],
   "source": [
    "class MiClase:\n",
    "    def __init__(self, valor):\n",
    "        self.valor = valor\n",
    "\n",
    "    def __add__(self, otro):\n",
    "        return self.valor + otro.valor\n",
    "    \n",
    "a = MiClase(10)\n",
    "b = MiClase(20)\n",
    "\n",
    "print(a + b)  # Salida: 30"
   ]
  },
  {
   "cell_type": "markdown",
   "metadata": {},
   "source": [
    "- `__getitem__` y `__setitem__` Son llamados con la sintaxis self[key] y self[key] = value respectivamente. Como su nombre indica, se utilizan para obtener y establecer valores.\n",
    "- `__len__` Debe devolver la longitud del objeto.\n",
    "- `__iter__` Debe devolver un iterador para el objeto. Debe poder ser usado en un bucle for.\n",
    "- `__next__` Debe devolver el siguiente elemento en el iterador.\n",
    "- `__contains__` Debe devolver True si el objeto contiene el valor especificado, False en caso contrario."
   ]
  },
  {
   "cell_type": "code",
   "execution_count": 78,
   "metadata": {},
   "outputs": [
    {
     "name": "stdout",
     "output_type": "stream",
     "text": [
      "modificando valores de la lista:\n",
      "1\n",
      "10\n",
      "obteniendo la longitud de la lista:\n",
      "5\n",
      "iterando sobre la lista:\n",
      "10\n",
      "2\n",
      "3\n",
      "4\n",
      "5\n"
     ]
    }
   ],
   "source": [
    "class MiClase:\n",
    "    def __init__(self, lista):\n",
    "        self.lista = lista\n",
    "\n",
    "    def __getitem__(self, indice):\n",
    "        return self.lista[indice]\n",
    "    \n",
    "    def __setitem__(self, indice, valor):\n",
    "        self.lista[indice] = valor\n",
    "    \n",
    "    def __len__(self):\n",
    "        return len(self.lista)\n",
    "    \n",
    "    def __iter__(self):\n",
    "        for valor in self.lista:\n",
    "            yield valor\n",
    "        \n",
    "mi_lista = MiClase([1, 2, 3, 4, 5])\n",
    "\n",
    "print(\"modificando valores de la lista:\")\n",
    "print(mi_lista[0])  # Salida: 1\n",
    "mi_lista[0] = 10\n",
    "print(mi_lista[0])  # Salida: 10\n",
    "\n",
    "print(\"obteniendo la longitud de la lista:\")\n",
    "print(len(mi_lista))  # Salida: 5\n",
    "\n",
    "\n",
    "print(\"iterando sobre la lista:\")\n",
    "for valor in mi_lista:\n",
    "    print(valor)"
   ]
  },
  {
   "cell_type": "markdown",
   "metadata": {},
   "source": [
    "`__call__` Define un comportamiento para la instancia, cuando es llamada como función."
   ]
  },
  {
   "cell_type": "code",
   "execution_count": 79,
   "metadata": {},
   "outputs": [
    {
     "name": "stdout",
     "output_type": "stream",
     "text": [
      "30\n"
     ]
    }
   ],
   "source": [
    "class MiClase:\n",
    "    def __init__(self, valor):\n",
    "        self.valor = valor\n",
    "\n",
    "    def __call__(self, otro):\n",
    "        return self.valor + otro\n",
    "    def __str__(self):\n",
    "        return str(self.valor)\n",
    "\n",
    "a = MiClase(10)\n",
    "b = a(20)\n",
    "print(b)  # Salida: 30"
   ]
  },
  {
   "cell_type": "markdown",
   "metadata": {},
   "source": [
    "Hay muchos otros métodos mágicos que se pueden implementar en una clase, no es necesario tenerlos todos implementados, pero pueden ser útiles en diferentes situaciones. [La documentación oficial de Python proporciona una lista completa de los métodos mágicos disponibles y su comportamiento esperado](https://docs.python.org/3/reference/datamodel.html#special-method-names)."
   ]
  },
  {
   "cell_type": "markdown",
   "metadata": {},
   "source": [
    "## Métodos built-in de Python. Iteradores"
   ]
  },
  {
   "cell_type": "markdown",
   "metadata": {},
   "source": [
    "En Python, los métodos built-in son métodos que están disponibles en las clases por defecto, sin necesidad de importar ningún módulo adicional. A diferencia de los métodos de las clases, su sintaxis es en notación prefija, es decir `metodo(objeto, argumentos)` en lugar de `objeto.metodo(argumentos)`. Esto es solo una cuestión de estilo, explicado por el [creador de Python](https://mail.python.org/pipermail/python-3000/2006-November/004643.html). "
   ]
  },
  {
   "cell_type": "markdown",
   "metadata": {},
   "source": [
    "La mayoría de los métodos built-in son funciones que llaman a los métodos mágicos de las clases, como `len()` que llama a `__len__`, `iter()` que llama a `__iter__`, `next()` que llama a `__next__`, entre otros. Algunos métodos built-in son funciones que realizan operaciones específicas, como `print()` que imprime un objeto en la consola, `type()` que devuelve el tipo de un objeto, `id()` que devuelve el identificador único de un objeto, entre otros."
   ]
  },
  {
   "cell_type": "markdown",
   "metadata": {},
   "source": [
    "#### Iteradores\n",
    "\n",
    "Los iteradores en Python son objetos que implementan los métodos `__iter__()` y `__next__()`, lo que les permite ser iterados (recorridos) a través de un bucle `for`. Los iteradores proporcionan una forma eficiente y elegante de acceder a elementos de una secuencia, como listas, tuplas, diccionarios, conjuntos, y otros objetos iterables.\n",
    "\n",
    "Un objeto iterador en Python debe cumplir con dos requisitos principales:\n",
    "\n",
    "1. **`__iter__()`**: Este método debe devolver el propio objeto iterador. Es llamado al iniciar la iteración y se espera que devuelva un objeto iterador.\n",
    "\n",
    "2. **`__next__()`**: Este método debe devolver el próximo elemento en la secuencia. Cuando no hay más elementos para iterar, se espera que levante la excepción `StopIteration`."
   ]
  },
  {
   "cell_type": "markdown",
   "metadata": {},
   "source": [
    "Veamos un ejemplo usando iteradores y métodos built-in:"
   ]
  },
  {
   "cell_type": "code",
   "execution_count": 9,
   "metadata": {},
   "outputs": [
    {
     "name": "stdout",
     "output_type": "stream",
     "text": [
      "0\n",
      "1\n",
      "2\n",
      "3\n",
      "4\n"
     ]
    },
    {
     "ename": "TypeError",
     "evalue": "object of type 'Contador' has no len()",
     "output_type": "error",
     "traceback": [
      "\u001b[0;31m---------------------------------------------------------------------------\u001b[0m",
      "\u001b[0;31mTypeError\u001b[0m                                 Traceback (most recent call last)",
      "Cell \u001b[0;32mIn[9], line 22\u001b[0m\n\u001b[1;32m     20\u001b[0m \u001b[38;5;28;01mfor\u001b[39;00m numero \u001b[38;5;129;01min\u001b[39;00m contador_iterador:\n\u001b[1;32m     21\u001b[0m     \u001b[38;5;28mprint\u001b[39m(numero)\n\u001b[0;32m---> 22\u001b[0m \u001b[38;5;28mprint\u001b[39m(\u001b[38;5;28;43mlen\u001b[39;49m\u001b[43m(\u001b[49m\u001b[43mcontador_iterador\u001b[49m\u001b[43m)\u001b[49m)\n\u001b[1;32m     23\u001b[0m \u001b[38;5;28mprint\u001b[39m(\u001b[38;5;28mlist\u001b[39m(contador_iterador)) \u001b[38;5;66;03m# funciona xq Iterable tiene el metodo __iter__\u001b[39;00m\n\u001b[1;32m     24\u001b[0m \u001b[38;5;28mprint\u001b[39m(\u001b[38;5;28mlist\u001b[39m(\u001b[38;5;28mreversed\u001b[39m(contador_iterador))) \u001b[38;5;66;03m# funciona xq Iterable tiene el metodo __getitem__\u001b[39;00m\n",
      "\u001b[0;31mTypeError\u001b[0m: object of type 'Contador' has no len()"
     ]
    }
   ],
   "source": [
    "class Contador:\n",
    "    def __init__(self, limite):\n",
    "        self.limite = limite\n",
    "        self.valor = 0\n",
    "\n",
    "    def __iter__(self):\n",
    "        return self\n",
    "\n",
    "    def __next__(self):\n",
    "        if self.valor < self.limite:\n",
    "            resultado = self.valor\n",
    "            self.valor += 1\n",
    "            return resultado\n",
    "        else:\n",
    "            raise StopIteration\n",
    "        \n",
    "    def __len__(self):\n",
    "        return self.limite\n",
    "    \n",
    "    def __getitem__(self, indice):\n",
    "        if 0 <= indice < self.limite:\n",
    "            return indice\n",
    "        else:\n",
    "            raise IndexError\n",
    "\n",
    "# Crear un objeto iterador\n",
    "contador_iterador = Contador(5)\n",
    "# Utilizar el iterador en un bucle for\n",
    "for numero in contador_iterador:\n",
    "    print(numero)\n",
    "print(len(contador_iterador))\n",
    "print(list(contador_iterador)) # funciona xq Iterable tiene el metodo __iter__\n",
    "print(list(reversed(contador_iterador))) # funciona xq Iterable tiene el metodo __getitem__\n",
    "\n",
    "\n",
    "#Utilizando la función built-in iter()\n",
    "a = iter([2,4,6,8])\n",
    "print(\"\\nIterando sobre el objeto iterable a:\")\n",
    "for numero in a:\n",
    "    print(numero)\n",
    "    "
   ]
  },
  {
   "cell_type": "markdown",
   "metadata": {},
   "source": [
    "El método `eval()` es un método built-in que evalúa una expresión en forma de cadena y devuelve el resultado. Puede ser útil en la construcción de AST o en la evaluación de expresiones dinámicas. Por ejemplo"
   ]
  },
  {
   "cell_type": "code",
   "execution_count": 81,
   "metadata": {},
   "outputs": [
    {
     "name": "stdout",
     "output_type": "stream",
     "text": [
      "Hola, mundo!\n",
      "9\n"
     ]
    }
   ],
   "source": [
    "expr = \"print('Hola, mundo!')\"\n",
    "eval(expr)\n",
    "\n",
    "expr  = \"x**2 + 2*x + 1\"\n",
    "x = 2\n",
    "print(eval(expr, {'x': x}))"
   ]
  },
  {
   "cell_type": "markdown",
   "metadata": {},
   "source": [
    "`eval()` recibe un string y lo evalúa como una expresión de Python, también puede recibir un diccionario con variables locales y globales. Esto nos puede ayudar a evaluar expresiones dinámicas o mejorar la seguridad al usar eval."
   ]
  },
  {
   "cell_type": "code",
   "execution_count": 3,
   "metadata": {},
   "outputs": [
    {
     "name": "stdout",
     "output_type": "stream",
     "text": [
      "Imprimiendo el diccionario de funciones seguras\n",
      "{'acos': <built-in function acos>, 'asin': <built-in function asin>, 'atan': <built-in function atan>, 'atan2': <built-in function atan2>, 'ceil': <built-in function ceil>, 'cos': <built-in function cos>, 'cosh': <built-in function cosh>, 'degrees': <built-in function degrees>, 'e': 2.718281828459045, 'exp': <built-in function exp>, 'fabs': <built-in function fabs>, 'floor': <built-in function floor>, 'fmod': <built-in function fmod>, 'frexp': <built-in function frexp>, 'hypot': <built-in function hypot>, 'ldexp': <built-in function ldexp>, 'log': <built-in function log>, 'log10': <built-in function log10>, 'modf': <built-in function modf>, 'pi': 3.141592653589793, 'pow': <built-in function pow>, 'radians': <built-in function radians>, 'sin': <built-in function sin>, 'sinh': <built-in function sinh>, 'sqrt': <built-in function sqrt>, 'tan': <built-in function tan>, 'tanh': <built-in function tanh>}\n",
      "Expresion x**e + 2*x + 1 con x = 2\n",
      "11.58088599101792\n",
      "\n",
      "Agregando la funcion inverso al diccionario de funciones seguras\n",
      "[1.0, 0.5, 0.3333333333333333, 0.25]\n"
     ]
    }
   ],
   "source": [
    "from math import *\n",
    "safe_list = ['acos', 'asin', 'atan', 'atan2', 'ceil', 'cos',\n",
    "                 'cosh', 'degrees', 'e', 'exp', 'fabs', 'floor',\n",
    "                 'fmod', 'frexp', 'hypot', 'ldexp', 'log', 'log10',\n",
    "                 'modf', 'pi', 'pow', 'radians', 'sin', 'sinh', 'sqrt',\n",
    "                 'tan', 'tanh']\n",
    "\n",
    "safe_dict = {k: globals().get(k, None) for k in safe_list} # globals devuelve un diccionario con las variables globales\n",
    "print(\"Imprimiendo el diccionario de funciones seguras\")\n",
    "print(safe_dict)\n",
    "\n",
    "expr = \"x**e + 2*x + 1\"\n",
    "x = 2\n",
    "print(\"Expresion \" + expr + f\" con x = {x}\")\n",
    "print(eval(expr, {'x': x}, safe_dict))\n",
    "\n",
    "# ejemplo de error\n",
    "# expr = \"inverso([1,1,1,1])\"\n",
    "# eval(expr, safe_dict) # name error inverso is not define\n",
    "\n",
    "def inverso(lista):\n",
    "    return [1/x for x in lista]\n",
    "\n",
    "safe_dict['inverso'] = inverso\n",
    "\n",
    "print(\"\\nAgregando la funcion inverso al diccionario de funciones seguras\")\n",
    "expr = \"inverso([1,2,3,4])\"\n",
    "print(eval(expr, safe_dict))\n"
   ]
  },
  {
   "cell_type": "markdown",
   "metadata": {},
   "source": [
    "De igual manera existen muchos otros métodos built-in que pueden ser útiles en diferentes situaciones. [La documentación oficial de Python proporciona una lista completa de los métodos built-in disponibles, y sus llamados a los metodos especiales](https://docs.python.org/3/library/functions.html)."
   ]
  },
  {
   "cell_type": "code",
   "execution_count": 4,
   "metadata": {},
   "outputs": [
    {
     "name": "stdout",
     "output_type": "stream",
     "text": [
      "0\n",
      "1\n",
      "2\n",
      "3\n",
      "4\n"
     ]
    }
   ],
   "source": []
  },
  {
   "cell_type": "markdown",
   "metadata": {},
   "source": [
    "En este ejemplo, la clase `Contador` implementa los métodos `__iter__` y `__next__`. La instancia de esta clase, `contador_iterador`, puede ser utilizada en un bucle `for` para iterar a través de los números del 0 al 4. Cada llamada a `__next__` devuelve el siguiente número en la secuencia, y el bucle se detiene cuando se alcanza el límite.\n",
    "\n",
    "Los iteradores proporcionan una interfaz uniforme para recorrer diferentes tipos de datos y son ampliamente utilizados en Python. Algunos objetos incorporados en Python, como listas, diccionarios y conjuntos, son naturalmente iterables, lo que significa que ya implementan los métodos `__iter__` y `__next__`. Además, funciones como `iter()` y `next()` pueden ser utilizadas para trabajar con iteradores de manera más generalizada."
   ]
  },
  {
   "cell_type": "markdown",
   "metadata": {},
   "source": [
    "## Tema fuera del Seminario: Decoradores\n",
    "\n",
    "En Python, un decorador es una función que toma otra función o método y extiende o modifica su comportamiento sin modificar su código fuente. Los decoradores son una forma elegante y poderosa de realizar acciones adicionales antes o después de la ejecución de una función. Pueden usarse para reutilizar y extender el comportamiento de funciones de manera modular.\n",
    "\n",
    "Explicación básica de cómo funcionan los decoradores en Python:\n",
    "\n",
    "1. **Sintaxis básica de un decorador:**\n",
    "\n",
    "   Un decorador se aplica a una función utilizando la sintaxis `@decorador` justo encima de la definición de la función. Por ejemplo:\n",
    "\n",
    "   ```python\n",
    "   @mi_decorador\n",
    "   def mi_funcion():\n",
    "       # código de la función\n",
    "   ```\n",
    "\n",
    "   En este caso, `mi_funcion` será pasada como argumento a la función `mi_decorador`.\n",
    "\n",
    "2. **Definición de un decorador:**\n",
    "\n",
    "   Un decorador es simplemente una función en Python. Puede aceptar una función como argumento, realizar alguna acción, y luego devolver una función modificada o extender el comportamiento de la función original.\n",
    "\n",
    "   ```python\n",
    "   def mi_decorador(funcion_original):\n",
    "       def funcion_modificada():\n",
    "           print(\"Realizando acciones antes de llamar a la función original\")\n",
    "           funcion_original()\n",
    "           print(\"Realizando acciones después de llamar a la función original\")\n",
    "       return funcion_modificada\n",
    "   ```\n",
    "\n",
    "3. **Aplicación de un decorador:**\n",
    "\n",
    "   Puedes aplicar un decorador a una función utilizando la sintaxis `@`:\n",
    "\n",
    "   ```python\n",
    "   @mi_decorador\n",
    "   def saludar():\n",
    "       print(\"¡Hola, mundo!\")\n",
    "   ```\n",
    "\n",
    "   En este caso, cuando llamas a `saludar()`, en realidad estás llamando a la versión modificada de la función creada por el decorador.\n",
    "\n",
    "4. **Múltiples decoradores:**\n",
    "\n",
    "   Puedes aplicar múltiples decoradores a una función. En este caso, los decoradores se aplican de abajo a arriba:\n",
    "\n",
    "   ```python\n",
    "   @decorador1\n",
    "   @decorador2\n",
    "   def mi_funcion():\n",
    "       # código de la función\n",
    "   ```\n",
    "\n",
    "   En este ejemplo, primero se aplica `decorador2`, y luego `decorador1`.\n",
    "\n",
    "5. **Decoradores incorporados:**\n",
    "\n",
    "   Python proporciona algunos decoradores incorporados, como `@staticmethod`, `@classmethod`, y `@property`. Estos son utilizados comúnmente en clases para definir métodos estáticos, de clase o propiedades.\n",
    "\n",
    "   ```python\n",
    "   class MiClase:\n",
    "       @staticmethod\n",
    "       def metodo_estatico():\n",
    "           # código del método estático\n",
    "\n",
    "       @classmethod\n",
    "       def metodo_de_clase(cls):\n",
    "           # código del método de clase\n",
    "\n",
    "       @property\n",
    "       def mi_propiedad(self):\n",
    "           # código de la propiedad\n",
    "   ```\n",
    "\n",
    "Los decoradores son una herramienta poderosa y versátil en Python, y se utilizan ampliamente para modificar o extender el comportamiento de las funciones y métodos de una manera clara y legible."
   ]
  },
  {
   "cell_type": "markdown",
   "metadata": {},
   "source": [
    "Veamos un ejemplo sencillo y práctico de cómo se utiliza un decorador en Python. Supongamos que queremos medir el tiempo de ejecución de una función. Podemos crear un decorador que haga esto sin modificar el código interno de la función. Aquí está un ejemplo:\n",
    "\n"
   ]
  },
  {
   "cell_type": "code",
   "execution_count": 83,
   "metadata": {},
   "outputs": [
    {
     "name": "stdout",
     "output_type": "stream",
     "text": [
      "Iniciando...\n",
      "Finalizando.\n",
      "ejemplo_funcion tomó 2.004222869873047 segundos en ejecutarse.\n"
     ]
    }
   ],
   "source": [
    "import time\n",
    "\n",
    "# Decorador para medir el tiempo de ejecución de una función\n",
    "def medir_tiempo(funcion):\n",
    "    def wrapper(*args, **kwargs):\n",
    "        inicio = time.time()\n",
    "        resultado = funcion(*args, **kwargs)\n",
    "        fin = time.time()\n",
    "        print(f\"{funcion.__name__} tomó {fin - inicio} segundos en ejecutarse.\")\n",
    "        return resultado\n",
    "    return wrapper\n",
    "\n",
    "# Aplicar el decorador a una función\n",
    "@medir_tiempo\n",
    "def ejemplo_funcion():\n",
    "    print(\"Iniciando...\")\n",
    "    time.sleep(2)\n",
    "    print(\"Finalizando.\")\n",
    "\n",
    "# Llamando a la función decorada\n",
    "ejemplo_funcion()\n"
   ]
  },
  {
   "cell_type": "markdown",
   "metadata": {},
   "source": [
    "\n",
    "En este ejemplo, `medir_tiempo` es un decorador que toma una función como argumento, define una nueva función (`wrapper`) que mide el tiempo de ejecución antes y después de llamar a la función original, e imprime el tiempo transcurrido.\n",
    "\n",
    "Cuando aplicamos `@medir_tiempo` sobre `ejemplo_funcion`, básicamente estamos diciendo que `ejemplo_funcion` ahora se ejecutará a través de la función `wrapper` del decorador `medir_tiempo`. Cuando llamamos a `ejemplo_funcion()`, en realidad estamos llamando a `wrapper`, y el tiempo de ejecución se imprime en la consola."
   ]
  }
 ],
 "metadata": {
  "kernelspec": {
   "display_name": "base",
   "language": "python",
   "name": "python3"
  },
  "language_info": {
   "codemirror_mode": {
    "name": "ipython",
    "version": 3
   },
   "file_extension": ".py",
   "mimetype": "text/x-python",
   "name": "python",
   "nbconvert_exporter": "python",
   "pygments_lexer": "ipython3",
   "version": "3.8.10"
  }
 },
 "nbformat": 4,
 "nbformat_minor": 2
}
